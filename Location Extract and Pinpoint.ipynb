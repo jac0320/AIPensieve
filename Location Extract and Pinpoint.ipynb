{
 "cells": [
  {
   "cell_type": "code",
   "execution_count": 2,
   "id": "f7f59d4c-6842-48b5-b238-db85f3cdbef3",
   "metadata": {},
   "outputs": [],
   "source": [
    "from PIL import Image\n",
    "from PIL.ExifTags import TAGS, GPSTAGS\n",
    "import requests\n",
    "import folium"
   ]
  },
  {
   "cell_type": "code",
   "execution_count": 3,
   "id": "cefbfd8c-14a7-4816-979f-02bb0dac62e5",
   "metadata": {},
   "outputs": [
    {
     "name": "stdout",
     "output_type": "stream",
     "text": [
      "{'GPSLatitudeRef': 'N', 'GPSLatitude': (37.0, 19.0, 48.16), 'GPSLongitudeRef': 'W', 'GPSLongitude': (121.0, 53.0, 20.13), 'GPSAltitudeRef': b'\\x00', 'GPSAltitude': 29.69203722854188, 'GPSTimeStamp': (0.0, 32.0, 15.0), 'GPSSpeedRef': 'K', 'GPSSpeed': 0.0, 'GPSImgDirectionRef': 'T', 'GPSImgDirection': 156.23205574912893, 'GPSDestBearingRef': 'T', 'GPSDestBearing': 336.2320557491289, 'GPSDateStamp': '2024:03:18', 'GPSHPositioningError': 14.246706915477498}\n"
     ]
    }
   ],
   "source": [
    "def dms_to_decimal(degrees, minutes, seconds, direction):\n",
    "    \"\"\"Converts degrees, minutes, and seconds to decimal degrees.\"\"\"\n",
    "    decimal = degrees + (minutes / 60.0) + (seconds / 3600.0)\n",
    "    if direction in ['S', 'W']:\n",
    "        decimal = -decimal\n",
    "    return decimal\n",
    "\n",
    "\n",
    "def get_gps_data(image_path):\n",
    "    \"\"\" Extracts GPS data from a JPEG image file if available. \"\"\"\n",
    "    with Image.open(image_path) as img:\n",
    "        exif_data = img._getexif()\n",
    "        if not exif_data:\n",
    "            return \"No EXIF metadata found\"\n",
    "\n",
    "        gps_info = {}\n",
    "        # Check if the GPSInfo tag is present\n",
    "        gps_tag = {TAGS[key]: val for key, val in exif_data.items() if key in TAGS}\n",
    "        \n",
    "        if 'GPSInfo' in gps_tag:\n",
    "            for key in gps_tag['GPSInfo'].keys():\n",
    "                decode = GPSTAGS.get(key, key)\n",
    "                gps_info[decode] = gps_tag['GPSInfo'][key]\n",
    "            return gps_info\n",
    "        else:\n",
    "            return \"No GPS data found\"\n",
    "\n",
    "# Example usage\n",
    "gps_data = get_gps_data('IMG_0803.jpeg')\n",
    "print(gps_data)"
   ]
  },
  {
   "cell_type": "code",
   "execution_count": 4,
   "id": "1881d781-a461-4622-b89b-46de3dc27091",
   "metadata": {},
   "outputs": [],
   "source": [
    "latitude = dms_to_decimal(*gps_data['GPSLatitude'], gps_data['GPSLatitudeRef'])\n",
    "longitude = dms_to_decimal(*gps_data['GPSLongitude'], gps_data['GPSLongitudeRef'])"
   ]
  },
  {
   "cell_type": "markdown",
   "id": "2c66ce7f-6639-42ba-889c-46445d6d27ad",
   "metadata": {},
   "source": [
    "### Pinpoint using OpenStreetMap"
   ]
  },
  {
   "cell_type": "code",
   "execution_count": 5,
   "id": "1aba1093-61e5-4f1b-b25f-58b560173f7b",
   "metadata": {},
   "outputs": [
    {
     "name": "stdout",
     "output_type": "stream",
     "text": [
      "{'place_id': 311070409, 'licence': 'Data © OpenStreetMap contributors, ODbL 1.0. http://osm.org/copyright', 'osm_type': 'way', 'osm_id': 1153917987, 'lat': '37.3301378', 'lon': '-121.88893509359903', 'class': 'leisure', 'type': 'garden', 'place_rank': 30, 'importance': 9.99999999995449e-06, 'addresstype': 'leisure', 'name': '', 'display_name': 'West San Carlos Street, SoFA, San Jose, Santa Clara County, California, 95113, United States', 'address': {'road': 'West San Carlos Street', 'neighbourhood': 'SoFA', 'city': 'San Jose', 'county': 'Santa Clara County', 'state': 'California', 'ISO3166-2-lvl4': 'US-CA', 'postcode': '95113', 'country': 'United States', 'country_code': 'us'}, 'boundingbox': ['37.3300908', '37.3302194', '-121.8889984', '-121.8889130']}\n"
     ]
    }
   ],
   "source": [
    "def get_location_by_coordinates(lat, lon):\n",
    "    \"\"\" Returns the location details given latitude and longitude. \"\"\"\n",
    "    url = 'https://nominatim.openstreetmap.org/reverse'\n",
    "    params = {\n",
    "        'format': 'json',\n",
    "        'lat': lat,\n",
    "        'lon': lon,\n",
    "        'zoom': 18  # Adjust zoom level to your needs\n",
    "    }\n",
    "    \n",
    "    response = requests.get(url, params=params)\n",
    "    data = response.json()\n",
    "    \n",
    "    return data\n",
    "\n",
    "location_info = get_location_by_coordinates(latitude, longitude)\n",
    "print(location_info)"
   ]
  },
  {
   "cell_type": "markdown",
   "id": "39ba43ec-a1dd-4e1f-958a-356660ceb119",
   "metadata": {},
   "source": [
    "## Pinpoint on Map"
   ]
  },
  {
   "cell_type": "code",
   "execution_count": 7,
   "id": "8ec825c1-6dbe-4fd7-be99-8af6e4f8af83",
   "metadata": {},
   "outputs": [
    {
     "data": {
      "text/html": [
       "<div style=\"width:100%;\"><div style=\"position:relative;width:100%;height:0;padding-bottom:60%;\"><span style=\"color:#565656\">Make this Notebook Trusted to load map: File -> Trust Notebook</span><iframe srcdoc=\"&lt;!DOCTYPE html&gt;\n",
       "&lt;html&gt;\n",
       "&lt;head&gt;\n",
       "    \n",
       "    &lt;meta http-equiv=&quot;content-type&quot; content=&quot;text/html; charset=UTF-8&quot; /&gt;\n",
       "    \n",
       "        &lt;script&gt;\n",
       "            L_NO_TOUCH = false;\n",
       "            L_DISABLE_3D = false;\n",
       "        &lt;/script&gt;\n",
       "    \n",
       "    &lt;style&gt;html, body {width: 100%;height: 100%;margin: 0;padding: 0;}&lt;/style&gt;\n",
       "    &lt;style&gt;#map {position:absolute;top:0;bottom:0;right:0;left:0;}&lt;/style&gt;\n",
       "    &lt;script src=&quot;https://cdn.jsdelivr.net/npm/leaflet@1.9.3/dist/leaflet.js&quot;&gt;&lt;/script&gt;\n",
       "    &lt;script src=&quot;https://code.jquery.com/jquery-3.7.1.min.js&quot;&gt;&lt;/script&gt;\n",
       "    &lt;script src=&quot;https://cdn.jsdelivr.net/npm/bootstrap@5.2.2/dist/js/bootstrap.bundle.min.js&quot;&gt;&lt;/script&gt;\n",
       "    &lt;script src=&quot;https://cdnjs.cloudflare.com/ajax/libs/Leaflet.awesome-markers/2.0.2/leaflet.awesome-markers.js&quot;&gt;&lt;/script&gt;\n",
       "    &lt;link rel=&quot;stylesheet&quot; href=&quot;https://cdn.jsdelivr.net/npm/leaflet@1.9.3/dist/leaflet.css&quot;/&gt;\n",
       "    &lt;link rel=&quot;stylesheet&quot; href=&quot;https://cdn.jsdelivr.net/npm/bootstrap@5.2.2/dist/css/bootstrap.min.css&quot;/&gt;\n",
       "    &lt;link rel=&quot;stylesheet&quot; href=&quot;https://netdna.bootstrapcdn.com/bootstrap/3.0.0/css/bootstrap.min.css&quot;/&gt;\n",
       "    &lt;link rel=&quot;stylesheet&quot; href=&quot;https://cdn.jsdelivr.net/npm/@fortawesome/fontawesome-free@6.2.0/css/all.min.css&quot;/&gt;\n",
       "    &lt;link rel=&quot;stylesheet&quot; href=&quot;https://cdnjs.cloudflare.com/ajax/libs/Leaflet.awesome-markers/2.0.2/leaflet.awesome-markers.css&quot;/&gt;\n",
       "    &lt;link rel=&quot;stylesheet&quot; href=&quot;https://cdn.jsdelivr.net/gh/python-visualization/folium/folium/templates/leaflet.awesome.rotate.min.css&quot;/&gt;\n",
       "    \n",
       "            &lt;meta name=&quot;viewport&quot; content=&quot;width=device-width,\n",
       "                initial-scale=1.0, maximum-scale=1.0, user-scalable=no&quot; /&gt;\n",
       "            &lt;style&gt;\n",
       "                #map_31052988c50aec86d1f7038e3a5fbce4 {\n",
       "                    position: relative;\n",
       "                    width: 100.0%;\n",
       "                    height: 100.0%;\n",
       "                    left: 0.0%;\n",
       "                    top: 0.0%;\n",
       "                }\n",
       "                .leaflet-container { font-size: 1rem; }\n",
       "            &lt;/style&gt;\n",
       "        \n",
       "&lt;/head&gt;\n",
       "&lt;body&gt;\n",
       "    \n",
       "    \n",
       "            &lt;div class=&quot;folium-map&quot; id=&quot;map_31052988c50aec86d1f7038e3a5fbce4&quot; &gt;&lt;/div&gt;\n",
       "        \n",
       "&lt;/body&gt;\n",
       "&lt;script&gt;\n",
       "    \n",
       "    \n",
       "            var map_31052988c50aec86d1f7038e3a5fbce4 = L.map(\n",
       "                &quot;map_31052988c50aec86d1f7038e3a5fbce4&quot;,\n",
       "                {\n",
       "                    center: [37.33004444444445, -121.888925],\n",
       "                    crs: L.CRS.EPSG3857,\n",
       "                    zoom: 15,\n",
       "                    zoomControl: true,\n",
       "                    preferCanvas: false,\n",
       "                }\n",
       "            );\n",
       "\n",
       "            \n",
       "\n",
       "        \n",
       "    \n",
       "            var tile_layer_9590f147ebf0ea51bcd657d0cdd45f15 = L.tileLayer(\n",
       "                &quot;https://tile.openstreetmap.org/{z}/{x}/{y}.png&quot;,\n",
       "                {&quot;attribution&quot;: &quot;\\u0026copy; \\u003ca href=\\&quot;https://www.openstreetmap.org/copyright\\&quot;\\u003eOpenStreetMap\\u003c/a\\u003e contributors&quot;, &quot;detectRetina&quot;: false, &quot;maxNativeZoom&quot;: 19, &quot;maxZoom&quot;: 19, &quot;minZoom&quot;: 0, &quot;noWrap&quot;: false, &quot;opacity&quot;: 1, &quot;subdomains&quot;: &quot;abc&quot;, &quot;tms&quot;: false}\n",
       "            );\n",
       "        \n",
       "    \n",
       "            tile_layer_9590f147ebf0ea51bcd657d0cdd45f15.addTo(map_31052988c50aec86d1f7038e3a5fbce4);\n",
       "        \n",
       "    \n",
       "            var marker_fe891c49b27092291290c6773dbe4697 = L.marker(\n",
       "                [37.33004444444445, -121.888925],\n",
       "                {}\n",
       "            ).addTo(map_31052988c50aec86d1f7038e3a5fbce4);\n",
       "        \n",
       "    \n",
       "        var popup_96271171dac532f9a2ba356f93d23637 = L.popup({&quot;maxWidth&quot;: &quot;100%&quot;});\n",
       "\n",
       "        \n",
       "            \n",
       "                var html_ddce88279e8b1a7a5ae56d053ee0a17d = $(`&lt;div id=&quot;html_ddce88279e8b1a7a5ae56d053ee0a17d&quot; style=&quot;width: 100.0%; height: 100.0%;&quot;&gt;Your Location&lt;/div&gt;`)[0];\n",
       "                popup_96271171dac532f9a2ba356f93d23637.setContent(html_ddce88279e8b1a7a5ae56d053ee0a17d);\n",
       "            \n",
       "        \n",
       "\n",
       "        marker_fe891c49b27092291290c6773dbe4697.bindPopup(popup_96271171dac532f9a2ba356f93d23637)\n",
       "        ;\n",
       "\n",
       "        \n",
       "    \n",
       "&lt;/script&gt;\n",
       "&lt;/html&gt;\" style=\"position:absolute;width:100%;height:100%;left:0;top:0;border:none !important;\" allowfullscreen webkitallowfullscreen mozallowfullscreen></iframe></div></div>"
      ],
      "text/plain": [
       "<folium.folium.Map at 0x12c16aad0>"
      ]
     },
     "execution_count": 7,
     "metadata": {},
     "output_type": "execute_result"
    }
   ],
   "source": [
    "def create_map(lat, lon):\n",
    "    map = folium.Map(location=[lat, lon], zoom_start=15)\n",
    "    folium.Marker([lat, lon], popup='Your Location').add_to(map)\n",
    "    return map\n",
    "\n",
    "map = create_map(latitude, longitude)\n",
    "map"
   ]
  },
  {
   "cell_type": "code",
   "execution_count": 10,
   "id": "3aad864a-79d9-4311-8a01-2797588430d8",
   "metadata": {},
   "outputs": [
    {
     "name": "stdout",
     "output_type": "stream",
     "text": [
      "Metadata:\n",
      "- Duration: 14 sec 278 ms\n",
      "- Image width: 1920 pixels\n",
      "- Image height: 1080 pixels\n",
      "- Creation date: 2024-04-12 04:10:51\n",
      "- Last modification: 2024-04-12 04:11:06\n",
      "- Comment: Play speed: 100.0%\n",
      "- Comment: User volume: 100.0%\n",
      "- MIME type: video/quicktime\n",
      "- Endianness: Big endian\n",
      "{'- Duration': '14 sec 278 ms', '- Image width': '1920 pixels', '- Image height': '1080 pixels', '- Creation date': '2024-04-12 04:10:51', '- Last modification': '2024-04-12 04:11:06', '- Comment': 'User volume: 100.0%', '- MIME type': 'video/quicktime', '- Endianness': 'Big endian'}\n"
     ]
    }
   ],
   "source": [
    "from hachoir.parser import createParser\n",
    "from hachoir.metadata import extractMetadata\n",
    "\n",
    "def get_video_metadata(video_path):\n",
    "    \"\"\" Extracts metadata from a video file. \"\"\"\n",
    "    parser = createParser(video_path)\n",
    "    if not parser:\n",
    "        print(\"Unable to create parser for the video.\")\n",
    "        return {}\n",
    "\n",
    "    with parser:\n",
    "        metadata = extractMetadata(parser)\n",
    "        print(metadata)\n",
    "        if not metadata:\n",
    "            print(\"Could not extract metadata.\")\n",
    "            return {}\n",
    "\n",
    "        # Convert the metadata exportPlaintext output to a readable dictionary\n",
    "        metadata_dict = {}\n",
    "        for line in metadata.exportPlaintext():\n",
    "            if \": \" in line:\n",
    "                key, value = line.split(\": \", 1)\n",
    "                metadata_dict[key.strip()] = value.strip()\n",
    "        return metadata_dict\n",
    "\n",
    "video_metadata = get_video_metadata('IMG_0393.MOV')\n",
    "print(video_metadata)"
   ]
  },
  {
   "cell_type": "code",
   "execution_count": 13,
   "id": "375b9bcc-d26f-4cfd-bb9d-574cb24d0fa0",
   "metadata": {
    "scrolled": true
   },
   "outputs": [
    {
     "name": "stdout",
     "output_type": "stream",
     "text": [
      "{'Latitude': 37.791199999999996, 'Longitude': -122.41300000000001}\n"
     ]
    }
   ],
   "source": [
    "import subprocess\n",
    "import re\n",
    "\n",
    "def get_gps_data(video_path):\n",
    "    command = f'exiftool -gpslatitude -gpslongitude \"{video_path}\"'\n",
    "    result = subprocess.run(command, shell=True, stdout=subprocess.PIPE, stderr=subprocess.PIPE)\n",
    "    output = result.stdout.decode('utf-8')\n",
    "    if result.returncode != 0 or not output:\n",
    "        print(\"Error or no data available:\", result.stderr.decode('utf-8'))\n",
    "        return None\n",
    "    \n",
    "    # Parsing GPS data\n",
    "    lat_match = re.search(r\"GPS Latitude\\s+:\\s+(\\d+) deg (\\d+)' ([\\d.]+)\\\" (\\w)\", output)\n",
    "    lon_match = re.search(r\"GPS Longitude\\s+:\\s+(\\d+) deg (\\d+)' ([\\d.]+)\\\" (\\w)\", output)\n",
    "\n",
    "    if not lat_match or not lon_match:\n",
    "        print(\"GPS data not found.\")\n",
    "        return None\n",
    "\n",
    "    # Convert DMS to Decimal\n",
    "    def dms_to_decimal(degrees, minutes, seconds, direction):\n",
    "        decimal = float(degrees) + float(minutes)/60 + float(seconds)/3600\n",
    "        if direction in ['S', 'W']:\n",
    "            decimal = -decimal\n",
    "        return decimal\n",
    "\n",
    "    latitude = dms_to_decimal(*lat_match.groups())\n",
    "    longitude = dms_to_decimal(*lon_match.groups())\n",
    "\n",
    "    return {\n",
    "        'Latitude': latitude,\n",
    "        'Longitude': longitude\n",
    "    }\n",
    "\n",
    "video_gps_data = get_gps_data('IMG_0393.MOV')\n",
    "print(video_gps_data)"
   ]
  },
  {
   "cell_type": "code",
   "execution_count": 14,
   "id": "e0011529-a8be-46b7-ade5-9b1706731c6a",
   "metadata": {},
   "outputs": [
    {
     "name": "stdout",
     "output_type": "stream",
     "text": [
      "{'place_id': 311853931, 'licence': 'Data © OpenStreetMap contributors, ODbL 1.0. http://osm.org/copyright', 'osm_type': 'way', 'osm_id': 32947040, 'lat': '37.7911743', 'lon': '-122.41299005468363', 'class': 'amenity', 'type': 'theatre', 'place_rank': 30, 'importance': 0.31725243536262376, 'addresstype': 'amenity', 'name': 'The Masonic', 'display_name': 'The Masonic, 1111, California Street, Lower Nob Hill, San Francisco, California, 94108, United States', 'address': {'amenity': 'The Masonic', 'house_number': '1111', 'road': 'California Street', 'neighbourhood': 'Lower Nob Hill', 'city': 'San Francisco', 'state': 'California', 'ISO3166-2-lvl4': 'US-CA', 'postcode': '94108', 'country': 'United States', 'country_code': 'us'}, 'boundingbox': ['37.7908515', '37.7915039', '-122.4134882', '-122.4124542']}\n"
     ]
    }
   ],
   "source": [
    "location_info = get_location_by_coordinates(video_gps_data['Latitude'], video_gps_data['Longitude'])\n",
    "print(location_info)"
   ]
  },
  {
   "cell_type": "code",
   "execution_count": 15,
   "id": "4e13438b-741f-4597-86fe-459fbb2b84d4",
   "metadata": {},
   "outputs": [
    {
     "data": {
      "text/html": [
       "<div style=\"width:100%;\"><div style=\"position:relative;width:100%;height:0;padding-bottom:60%;\"><span style=\"color:#565656\">Make this Notebook Trusted to load map: File -> Trust Notebook</span><iframe srcdoc=\"&lt;!DOCTYPE html&gt;\n",
       "&lt;html&gt;\n",
       "&lt;head&gt;\n",
       "    \n",
       "    &lt;meta http-equiv=&quot;content-type&quot; content=&quot;text/html; charset=UTF-8&quot; /&gt;\n",
       "    \n",
       "        &lt;script&gt;\n",
       "            L_NO_TOUCH = false;\n",
       "            L_DISABLE_3D = false;\n",
       "        &lt;/script&gt;\n",
       "    \n",
       "    &lt;style&gt;html, body {width: 100%;height: 100%;margin: 0;padding: 0;}&lt;/style&gt;\n",
       "    &lt;style&gt;#map {position:absolute;top:0;bottom:0;right:0;left:0;}&lt;/style&gt;\n",
       "    &lt;script src=&quot;https://cdn.jsdelivr.net/npm/leaflet@1.9.3/dist/leaflet.js&quot;&gt;&lt;/script&gt;\n",
       "    &lt;script src=&quot;https://code.jquery.com/jquery-3.7.1.min.js&quot;&gt;&lt;/script&gt;\n",
       "    &lt;script src=&quot;https://cdn.jsdelivr.net/npm/bootstrap@5.2.2/dist/js/bootstrap.bundle.min.js&quot;&gt;&lt;/script&gt;\n",
       "    &lt;script src=&quot;https://cdnjs.cloudflare.com/ajax/libs/Leaflet.awesome-markers/2.0.2/leaflet.awesome-markers.js&quot;&gt;&lt;/script&gt;\n",
       "    &lt;link rel=&quot;stylesheet&quot; href=&quot;https://cdn.jsdelivr.net/npm/leaflet@1.9.3/dist/leaflet.css&quot;/&gt;\n",
       "    &lt;link rel=&quot;stylesheet&quot; href=&quot;https://cdn.jsdelivr.net/npm/bootstrap@5.2.2/dist/css/bootstrap.min.css&quot;/&gt;\n",
       "    &lt;link rel=&quot;stylesheet&quot; href=&quot;https://netdna.bootstrapcdn.com/bootstrap/3.0.0/css/bootstrap.min.css&quot;/&gt;\n",
       "    &lt;link rel=&quot;stylesheet&quot; href=&quot;https://cdn.jsdelivr.net/npm/@fortawesome/fontawesome-free@6.2.0/css/all.min.css&quot;/&gt;\n",
       "    &lt;link rel=&quot;stylesheet&quot; href=&quot;https://cdnjs.cloudflare.com/ajax/libs/Leaflet.awesome-markers/2.0.2/leaflet.awesome-markers.css&quot;/&gt;\n",
       "    &lt;link rel=&quot;stylesheet&quot; href=&quot;https://cdn.jsdelivr.net/gh/python-visualization/folium/folium/templates/leaflet.awesome.rotate.min.css&quot;/&gt;\n",
       "    \n",
       "            &lt;meta name=&quot;viewport&quot; content=&quot;width=device-width,\n",
       "                initial-scale=1.0, maximum-scale=1.0, user-scalable=no&quot; /&gt;\n",
       "            &lt;style&gt;\n",
       "                #map_fe84caeb1479df1898c248f3a0764ea5 {\n",
       "                    position: relative;\n",
       "                    width: 100.0%;\n",
       "                    height: 100.0%;\n",
       "                    left: 0.0%;\n",
       "                    top: 0.0%;\n",
       "                }\n",
       "                .leaflet-container { font-size: 1rem; }\n",
       "            &lt;/style&gt;\n",
       "        \n",
       "&lt;/head&gt;\n",
       "&lt;body&gt;\n",
       "    \n",
       "    \n",
       "            &lt;div class=&quot;folium-map&quot; id=&quot;map_fe84caeb1479df1898c248f3a0764ea5&quot; &gt;&lt;/div&gt;\n",
       "        \n",
       "&lt;/body&gt;\n",
       "&lt;script&gt;\n",
       "    \n",
       "    \n",
       "            var map_fe84caeb1479df1898c248f3a0764ea5 = L.map(\n",
       "                &quot;map_fe84caeb1479df1898c248f3a0764ea5&quot;,\n",
       "                {\n",
       "                    center: [37.791199999999996, -122.41300000000001],\n",
       "                    crs: L.CRS.EPSG3857,\n",
       "                    zoom: 15,\n",
       "                    zoomControl: true,\n",
       "                    preferCanvas: false,\n",
       "                }\n",
       "            );\n",
       "\n",
       "            \n",
       "\n",
       "        \n",
       "    \n",
       "            var tile_layer_ef6db63e0492c4e9e7abb3041845b2ed = L.tileLayer(\n",
       "                &quot;https://tile.openstreetmap.org/{z}/{x}/{y}.png&quot;,\n",
       "                {&quot;attribution&quot;: &quot;\\u0026copy; \\u003ca href=\\&quot;https://www.openstreetmap.org/copyright\\&quot;\\u003eOpenStreetMap\\u003c/a\\u003e contributors&quot;, &quot;detectRetina&quot;: false, &quot;maxNativeZoom&quot;: 19, &quot;maxZoom&quot;: 19, &quot;minZoom&quot;: 0, &quot;noWrap&quot;: false, &quot;opacity&quot;: 1, &quot;subdomains&quot;: &quot;abc&quot;, &quot;tms&quot;: false}\n",
       "            );\n",
       "        \n",
       "    \n",
       "            tile_layer_ef6db63e0492c4e9e7abb3041845b2ed.addTo(map_fe84caeb1479df1898c248f3a0764ea5);\n",
       "        \n",
       "    \n",
       "            var marker_9a936bcf993012c7d22342be07ba2811 = L.marker(\n",
       "                [37.791199999999996, -122.41300000000001],\n",
       "                {}\n",
       "            ).addTo(map_fe84caeb1479df1898c248f3a0764ea5);\n",
       "        \n",
       "    \n",
       "        var popup_d5ec9b688603ad6e11cd536c5fc64679 = L.popup({&quot;maxWidth&quot;: &quot;100%&quot;});\n",
       "\n",
       "        \n",
       "            \n",
       "                var html_0bc6e1f47ef983a8e9f8f247586c2a82 = $(`&lt;div id=&quot;html_0bc6e1f47ef983a8e9f8f247586c2a82&quot; style=&quot;width: 100.0%; height: 100.0%;&quot;&gt;Your Location&lt;/div&gt;`)[0];\n",
       "                popup_d5ec9b688603ad6e11cd536c5fc64679.setContent(html_0bc6e1f47ef983a8e9f8f247586c2a82);\n",
       "            \n",
       "        \n",
       "\n",
       "        marker_9a936bcf993012c7d22342be07ba2811.bindPopup(popup_d5ec9b688603ad6e11cd536c5fc64679)\n",
       "        ;\n",
       "\n",
       "        \n",
       "    \n",
       "&lt;/script&gt;\n",
       "&lt;/html&gt;\" style=\"position:absolute;width:100%;height:100%;left:0;top:0;border:none !important;\" allowfullscreen webkitallowfullscreen mozallowfullscreen></iframe></div></div>"
      ],
      "text/plain": [
       "<folium.folium.Map at 0x12c12ef50>"
      ]
     },
     "execution_count": 15,
     "metadata": {},
     "output_type": "execute_result"
    }
   ],
   "source": [
    "map = create_map(video_gps_data['Latitude'], video_gps_data['Longitude'])\n",
    "map"
   ]
  }
 ],
 "metadata": {
  "kernelspec": {
   "display_name": "Python 3 (ipykernel)",
   "language": "python",
   "name": "python3"
  },
  "language_info": {
   "codemirror_mode": {
    "name": "ipython",
    "version": 3
   },
   "file_extension": ".py",
   "mimetype": "text/x-python",
   "name": "python",
   "nbconvert_exporter": "python",
   "pygments_lexer": "ipython3",
   "version": "3.11.9"
  }
 },
 "nbformat": 4,
 "nbformat_minor": 5
}
