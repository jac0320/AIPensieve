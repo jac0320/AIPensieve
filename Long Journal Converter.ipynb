{
 "cells": [
  {
   "cell_type": "code",
   "execution_count": 10,
   "id": "c49303d3-db22-4506-97fb-b109a0a90c57",
   "metadata": {},
   "outputs": [
    {
     "name": "stderr",
     "output_type": "stream",
     "text": [
      "/Users/sitewang/.pyenv/versions/3.11.9/envs/journal/lib/python3.11/site-packages/tqdm/auto.py:21: TqdmWarning: IProgress not found. Please update jupyter and ipywidgets. See https://ipywidgets.readthedocs.io/en/stable/user_install.html\n",
      "  from .autonotebook import tqdm as notebook_tqdm\n"
     ]
    }
   ],
   "source": [
    "import pandas as pd\n",
    "import json\n",
    "from utils import *\n",
    "import google.generativeai as genai"
   ]
  },
  {
   "cell_type": "code",
   "execution_count": 11,
   "id": "c42c9d58-dca7-4d8b-9020-635b4a0f82e1",
   "metadata": {},
   "outputs": [],
   "source": [
    "OPENWEATHER_API_KEY = os.getenv('OPENWEATHER_API_KEY')\n",
    "genai.configure(api_key=os.getenv('GEMINI_API_KEY'))"
   ]
  },
  {
   "cell_type": "code",
   "execution_count": 12,
   "id": "ca405f89-5049-42ef-b477-ffcc8240b5e6",
   "metadata": {},
   "outputs": [],
   "source": [
    "with open('converted_data/long_journal_unconverted.json', 'r') as file:\n",
    "    raw = json.load(file)"
   ]
  },
  {
   "cell_type": "code",
   "execution_count": 13,
   "id": "aac4c43e-b520-4240-b8bf-f0984ce4b2ae",
   "metadata": {},
   "outputs": [
    {
     "data": {
      "text/plain": [
       "'July 4, 2016'"
      ]
     },
     "execution_count": 13,
     "metadata": {},
     "output_type": "execute_result"
    }
   ],
   "source": [
    "raw['journalEntries'][0]['date']"
   ]
  },
  {
   "cell_type": "code",
   "execution_count": 14,
   "id": "5d760ab5-8a25-49fa-ae3c-55d935a0aca9",
   "metadata": {},
   "outputs": [],
   "source": [
    "def generate_title(location_data, weather_data, music_data, journal_data):\n",
    "    \n",
    "    prompt = f\"\"\"\n",
    "    My name is Long Cheng. I work in the tech industry and is a AI enthusiastic. \n",
    "    \n",
    "    This journal was written at: \n",
    "    {location_data}\n",
    "\n",
    "    Here are some weather information at the time:\n",
    "    {weather_data}\n",
    "\n",
    "    I feel the best music to describe this journal is:\n",
    "    {music_data}\n",
    "\n",
    "    Here is the journal I wrote:\n",
    "    {journal_data}\n",
    "    \n",
    "    Based on the all above information and the picture provided, can you write a personal journal. \n",
    "    Don't mention anything related to technical data provided above.\n",
    "    Understand what is in the pictutre in the journal. It is okay to keep the imagination open. \n",
    "    Be creative, personal, and realistic. \n",
    "    \"\"\"\n",
    "    vision_model = genai.GenerativeModel('gemini-pro')\n",
    "    response = vision_model.generate_content(prompt)\n",
    "    return response.text"
   ]
  },
  {
   "cell_type": "code",
   "execution_count": 16,
   "id": "f0f2c7f4-ccf4-4565-9a90-7bbe66547791",
   "metadata": {},
   "outputs": [],
   "source": [
    "journal = {}\n",
    "\n",
    "for v in raw['journalEntries']:\n",
    "    date_str = v['date']\n",
    "    weather_str = v['weather']\n",
    "    location_str = v['location']\n",
    "    music_str = v['music']\n",
    "    entry_str = v['entry']\n",
    "\n",
    "    latitude, longitude = locate_address_google_map(location_str)\n",
    "    utc_dt = convert_raw_date_to_utc_dt(date_str, latitude, longitude)\n",
    "    location_data = get_location_by_coordinates(latitude, longitude)\n",
    "    openweather_response = get_historical_weather(latitude, longitude, utc_dt, OPENWEATHER_API_KEY)\n",
    "    weather_data = openweather_response.data.loc[0]\n",
    "    timezone = openweather_response.timezone.loc[0]\n",
    "    journal[date_str] = {\n",
    "        'journal': entry_str,\n",
    "        'title': generate_title(location_data, weather_data, music_str, entry_str),\n",
    "        'utc_dt': utc_dt,\n",
    "        'music': music_str,\n",
    "        'timezone': timezone,\n",
    "        'weather_data': weather_data,\n",
    "        'location_data': location_data\n",
    "    }\n",
    "\n",
    "with open('long_journal.json', 'w') as f:\n",
    "    json.dump(journal, f)"
   ]
  }
 ],
 "metadata": {
  "kernelspec": {
   "display_name": "Python 3 (ipykernel)",
   "language": "python",
   "name": "python3"
  },
  "language_info": {
   "codemirror_mode": {
    "name": "ipython",
    "version": 3
   },
   "file_extension": ".py",
   "mimetype": "text/x-python",
   "name": "python",
   "nbconvert_exporter": "python",
   "pygments_lexer": "ipython3",
   "version": "3.11.9"
  }
 },
 "nbformat": 4,
 "nbformat_minor": 5
}
