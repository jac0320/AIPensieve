{
 "cells": [
  {
   "cell_type": "code",
   "execution_count": 5,
   "id": "3fcfd08e-a20d-4c16-99ca-82a7be079450",
   "metadata": {},
   "outputs": [
    {
     "name": "stdout",
     "output_type": "stream",
     "text": [
      "fca840bd6fe422000a0b9ecf79401669\n",
      "       lat     lon          timezone  timezone_offset  \\\n",
      "0  40.7128 -74.006  America/New_York           -14400   \n",
      "\n",
      "                                                data  \n",
      "0  {'dt': 1680332400, 'sunrise': 1680345590, 'sun...  \n"
     ]
    }
   ],
   "source": [
    "import requests\n",
    "import os\n",
    "import pandas as pd\n",
    "from datetime import datetime\n",
    "\n",
    "def get_historical_weather(lat, lon, date, api_key):\n",
    "    \"\"\"\n",
    "    Fetch historical weather data for a specific latitude, longitude, and date.\n",
    "    \n",
    "    Args:\n",
    "    - lat (float): Latitude of the location\n",
    "    - lon (float): Longitude of the location\n",
    "    - date (str): Date in 'YYYY-MM-DD' format\n",
    "    - api_key (str): API key for the OpenWeatherMap API\n",
    "    \n",
    "    Returns:\n",
    "    - DataFrame with weather data or an error message\n",
    "    \"\"\"\n",
    "    # Convert date to UNIX timestamp\n",
    "    timestamp = int(datetime.strptime(date, '%Y-%m-%d').timestamp())\n",
    "    \n",
    "    # Build the API URL\n",
    "    url = f\"https://api.openweathermap.org/data/3.0/onecall/timemachine?lat={lat}&lon={lon}&dt={timestamp}&appid={api_key}\"\n",
    "    \n",
    "    # Make the API request\n",
    "    response = requests.get(url)\n",
    "    \n",
    "    if response.status_code == 200:\n",
    "        data = response.json()\n",
    "        # Extract hourly weather data and convert to DataFrame\n",
    "        df = pd.DataFrame(data)\n",
    "        return df\n",
    "    else:\n",
    "        return f\"Failed to fetch data: {response.text}\"\n",
    "\n",
    "# Example usage\n",
    "api_key = os.getenv('OPENWEATHER_API_KEY')\n",
    "print(api_key)\n",
    "lat = 40.7128  # Example: New York City latitude\n",
    "lon = -74.0060 # Example: New York City longitude\n",
    "date = '2023-04-01'  # Example date\n",
    "\n",
    "# Get the data\n",
    "weather_data = get_historical_weather(lat, lon, date, api_key)\n",
    "print(weather_data)"
   ]
  },
  {
   "cell_type": "code",
   "execution_count": 8,
   "id": "8b850b55-971a-47d1-92b5-1524a5b93870",
   "metadata": {},
   "outputs": [
    {
     "data": {
      "text/plain": [
       "{'dt': 1680332400,\n",
       " 'sunrise': 1680345590,\n",
       " 'sunset': 1680391184,\n",
       " 'temp': 286.94,\n",
       " 'feels_like': 286.28,\n",
       " 'pressure': 1008,\n",
       " 'humidity': 73,\n",
       " 'dew_point': 282.19,\n",
       " 'clouds': 100,\n",
       " 'visibility': 10000,\n",
       " 'wind_speed': 5.14,\n",
       " 'wind_deg': 170,\n",
       " 'weather': [{'id': 500,\n",
       "   'main': 'Rain',\n",
       "   'description': 'light rain',\n",
       "   'icon': '10n'}],\n",
       " 'rain': {'1h': 0.23}}"
      ]
     },
     "execution_count": 8,
     "metadata": {},
     "output_type": "execute_result"
    }
   ],
   "source": [
    "weather_data.data.loc[0]"
   ]
  }
 ],
 "metadata": {
  "kernelspec": {
   "display_name": "Python 3 (ipykernel)",
   "language": "python",
   "name": "python3"
  },
  "language_info": {
   "codemirror_mode": {
    "name": "ipython",
    "version": 3
   },
   "file_extension": ".py",
   "mimetype": "text/x-python",
   "name": "python",
   "nbconvert_exporter": "python",
   "pygments_lexer": "ipython3",
   "version": "3.11.9"
  }
 },
 "nbformat": 4,
 "nbformat_minor": 5
}
