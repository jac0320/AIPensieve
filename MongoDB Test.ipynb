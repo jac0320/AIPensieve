{
 "cells": [
  {
   "cell_type": "code",
   "execution_count": 1,
   "id": "90fe30d4-aa37-45c9-993e-8f0ebab3e0bf",
   "metadata": {},
   "outputs": [],
   "source": [
    "from pymongo import MongoClient\n",
    "\n",
    "# Replace 'localhost' with the IP of your MongoDB server if it's remote\n",
    "client = MongoClient('mongodb://localhost:27017/')\n",
    "\n",
    "# Access database\n",
    "db = client['example_database']\n",
    "\n",
    "# Access collection\n",
    "collection = db['example_collection']\n"
   ]
  },
  {
   "cell_type": "code",
   "execution_count": 2,
   "id": "0728c245-ed8b-4107-beec-c7e3f8c37a40",
   "metadata": {},
   "outputs": [
    {
     "data": {
      "text/plain": [
       "Collection(Database(MongoClient(host=['localhost:27017'], document_class=dict, tz_aware=False, connect=True), 'example_database'), 'example_collection')"
      ]
     },
     "execution_count": 2,
     "metadata": {},
     "output_type": "execute_result"
    }
   ],
   "source": [
    "collection"
   ]
  },
  {
   "cell_type": "code",
   "execution_count": 12,
   "id": "afc992bb-df58-48fe-ac26-2b9559bc8712",
   "metadata": {},
   "outputs": [
    {
     "data": {
      "text/plain": [
       "InsertManyResult([ObjectId('662b2a7f0967e44375db0adc'), ObjectId('662b2a7f0967e44375db0add')], acknowledged=True)"
      ]
     },
     "execution_count": 12,
     "metadata": {},
     "output_type": "execute_result"
    }
   ],
   "source": [
    "# Insert a single document\n",
    "collection.insert_one({\"name\": \"Alice\", \"age\": 25})\n",
    "\n",
    "# Insert multiple documents\n",
    "collection.insert_many([\n",
    "    {\"name\": \"Bob\", \"age\": 30, \"gender\": \"ABC\", \"test_result\": True, \"weather\": {\"date\": \"2020\", \"raining\": True}},\n",
    "    {\"name\": \"Charlie\", \"age\": 35, \"gender\": \"DEF\", \"keyboard_type\": \"Das\", \"weather\": {\"date\": \"2020\", \"raining\": True}}\n",
    "])\n"
   ]
  },
  {
   "cell_type": "code",
   "execution_count": 15,
   "id": "758c9f7f-50c1-4ac6-b3bf-8dc55e5b6c84",
   "metadata": {},
   "outputs": [
    {
     "name": "stdout",
     "output_type": "stream",
     "text": [
      "{'_id': ObjectId('662b2a7f0967e44375db0adc'), 'name': 'Bob', 'age': 30, 'gender': 'ABC', 'test_result': True, 'weather': {'date': '2020', 'raining': True}}\n",
      "{'_id': ObjectId('662b2a7f0967e44375db0add'), 'name': 'Charlie', 'age': 35, 'gender': 'DEF', 'keyboard_type': 'Das', 'weather': {'date': '2020', 'raining': True}}\n"
     ]
    }
   ],
   "source": [
    "# Find one document\n",
    "for i in collection.find({\"weather.raining\": True}):\n",
    "    print(i)"
   ]
  }
 ],
 "metadata": {
  "kernelspec": {
   "display_name": "Python 3 (ipykernel)",
   "language": "python",
   "name": "python3"
  },
  "language_info": {
   "codemirror_mode": {
    "name": "ipython",
    "version": 3
   },
   "file_extension": ".py",
   "mimetype": "text/x-python",
   "name": "python",
   "nbconvert_exporter": "python",
   "pygments_lexer": "ipython3",
   "version": "3.11.9"
  }
 },
 "nbformat": 4,
 "nbformat_minor": 5
}
