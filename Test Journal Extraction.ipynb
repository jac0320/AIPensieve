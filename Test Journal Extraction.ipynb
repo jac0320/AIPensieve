{
 "cells": [
  {
   "cell_type": "code",
   "execution_count": 26,
   "id": "99af0720-12ab-4e65-ab2a-b5f4c6ed19c4",
   "metadata": {},
   "outputs": [],
   "source": [
    "import os\n",
    "import re\n",
    "import json\n",
    "import google.generativeai as genai\n",
    "from tenacity import retry\n",
    "\n",
    "GEMINI_API_KEY = os.getenv('GEMINI_API_KEY')"
   ]
  },
  {
   "cell_type": "code",
   "execution_count": 6,
   "id": "5a3b5dda-5fa7-43b9-bf50-a066b97c0841",
   "metadata": {},
   "outputs": [],
   "source": [
    "client = genai.configure(api_key=GEMINI_API_KEY)"
   ]
  },
  {
   "cell_type": "code",
   "execution_count": 9,
   "id": "cec677e3-b745-432f-a412-0c375ed51860",
   "metadata": {},
   "outputs": [],
   "source": [
    "model = genai.GenerativeModel('gemini-pro')"
   ]
  },
  {
   "cell_type": "code",
   "execution_count": 11,
   "id": "fbeea668-0dac-4eed-8d33-9162a7bcc78b",
   "metadata": {},
   "outputs": [],
   "source": [
    "journal = \"\"\"\n",
    "Date: July 4, 2016 ",
    "Weather: Sunny, 85°F ",
    "Location: Central Park, New York City, NY ",
    "Music: \"Party in the U.S.A.\" by Miley Cyrus\n",
    "Today was Independence Day, and the city was alive with energy and excitement. Elva and I decided to spend the day in Central Park, enjoying the festivities and soaking up the summer sun. We packed a picnic basket with sandwiches, fruit, and lemonade, and set out early to secure a prime spot on the grass. As we lounged on our picnic blanket, Henry crawled around, exploring the world with wide-eyed wonder. He was almost a year old now, and every day seemed to bring new discoveries. We watched as he reached out to touch a passing butterfly, his chubby fingers grasping at the air in fascination. It's moments like these that remind me of the beauty and magic of life.\n",
    "As the day progressed, the park filled with families and friends enjoying barbecues, games, and live music. Henry giggled as he played with other children, his laughter blending with the sounds of laughter and joy around us. We took turns pushing him on the swings and lifting him up to touch the leaves of the trees above. In the afternoon, we joined a game of frisbee with some friendly strangers, our laughter mingling with the sounds of the city. It was a day of simple pleasures and cherished moments, a reminder of the freedom and unity that this day represents.\n",
    "\"\"\""
   ]
  },
  {
   "cell_type": "code",
   "execution_count": 12,
   "id": "236a39ef-ac65-4571-b27f-4d691a4e10e6",
   "metadata": {},
   "outputs": [],
   "source": [
    "prompt = f\"\"\"\n",
    "Given the journal below:\n",
    "Date: July 4, 2016 ",
    "Weather: Sunny, 85°F ",
    "Location: Central Park, New York City, NY ",
    "Music: \"Party in the U.S.A.\" by Miley Cyrus\n",
    "Today was Independence Day, and the city was alive with energy and excitement. Elva and I decided to spend the day in Central Park, enjoying the festivities and soaking up the summer sun. We packed a picnic basket with sandwiches, fruit, and lemonade, and set out early to secure a prime spot on the grass. As we lounged on our picnic blanket, Henry crawled around, exploring the world with wide-eyed wonder. He was almost a year old now, and every day seemed to bring new discoveries. We watched as he reached out to touch a passing butterfly, his chubby fingers grasping at the air in fascination. It's moments like these that remind me of the beauty and magic of life.\n",
    "As the day progressed, the park filled with families and friends enjoying barbecues, games, and live music. Henry giggled as he played with other children, his laughter blending with the sounds of laughter and joy around us. We took turns pushing him on the swings and lifting him up to touch the leaves of the trees above. In the afternoon, we joined a game of frisbee with some friendly strangers, our laughter mingling with the sounds of the city. It was a day of simple pleasures and cherished moments, a reminder of the freedom and unity that this day represents.\n",
    "\n",
    "\n",
    "Help me extract info into a dictionary in json format with the following keys:\n",
    "    location_str: str, extracted location of where this journal is written\n",
    "    datetime: str, extracted time of the journal in the format of %Y-%m-%d %H:%M:%S\n",
    "    mood_data: str, describe the overall mood of the journal\n",
    "    weather_data: str, extract any information that implies weather data\n",
    "\"\"\""
   ]
  },
  {
   "cell_type": "code",
   "execution_count": 16,
   "id": "1ec345bb-c2c4-4b97-a699-1426f05018d1",
   "metadata": {},
   "outputs": [],
   "source": [
    "response = model.generate_content(prompt)"
   ]
  },
  {
   "cell_type": "code",
   "execution_count": 21,
   "id": "af751cc7-3ada-4851-9639-8435601133e8",
   "metadata": {},
   "outputs": [
    {
     "data": {
      "text/plain": [
       "response:\n",
       "GenerateContentResponse(\n",
       "    done=True,\n",
       "    iterator=None,\n",
       "    result=glm.GenerateContentResponse({'candidates': [{'content': {'parts': [{'text': '```json\\n{\\n  \"location_str\": \"Central Park, New York City, NY\",\\n  \"datetime\": \"2016-07-04 00:00:00\",\\n  \"mood_data\": \"joyful and excited\"\\n}\\n```'}], 'role': 'model'}, 'finish_reason': 1, 'index': 0, 'safety_ratings': [{'category': 9, 'probability': 1, 'blocked': False}, {'category': 8, 'probability': 1, 'blocked': False}, {'category': 7, 'probability': 1, 'blocked': False}, {'category': 10, 'probability': 1, 'blocked': False}], 'token_count': 0, 'grounding_attributions': []}]}),\n",
       ")"
      ]
     },
     "execution_count": 21,
     "metadata": {},
     "output_type": "execute_result"
    }
   ],
   "source": [
    "response"
   ]
  },
  {
   "cell_type": "code",
   "execution_count": 22,
   "id": "5de0cd82-149c-459e-8559-695bb6b0d1be",
   "metadata": {},
   "outputs": [],
   "source": [
    "pattern = r\"```json(.*?)```\"\n",
    "match = re.search(pattern, response.text, re.DOTALL)"
   ]
  },
  {
   "cell_type": "code",
   "execution_count": 25,
   "id": "5d0015d9-1db4-40df-be9e-91c24913435e",
   "metadata": {},
   "outputs": [
    {
     "data": {
      "text/plain": [
       "{'location_str': 'Central Park, New York City, NY',\n",
       " 'datetime': '2016-07-04 00:00:00',\n",
       " 'mood_data': 'joyful and excited'}"
      ]
     },
     "execution_count": 25,
     "metadata": {},
     "output_type": "execute_result"
    }
   ],
   "source": [
    "json.loads(match.group(1))"
   ]
  },
  {
   "cell_type": "code",
   "execution_count": null,
   "id": "bf6eecef-ab4f-48d8-8cf0-d0f7ad62c144",
   "metadata": {},
   "outputs": [],
   "source": []
  }
 ],
 "metadata": {
  "kernelspec": {
   "display_name": "Python 3 (ipykernel)",
   "language": "python",
   "name": "python3"
  },
  "language_info": {
   "codemirror_mode": {
    "name": "ipython",
    "version": 3
   },
   "file_extension": ".py",
   "mimetype": "text/x-python",
   "name": "python",
   "nbconvert_exporter": "python",
   "pygments_lexer": "ipython3",
   "version": "3.11.9"
  }
 },
 "nbformat": 4,
 "nbformat_minor": 5
}
